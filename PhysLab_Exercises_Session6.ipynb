{
 "cells": [
  {
   "cell_type": "markdown",
   "metadata": {},
   "source": [
    "# Monte Carlo and Sampling of Distributions"
   ]
  },
  {
   "cell_type": "markdown",
   "metadata": {},
   "source": [
    "This is an introduction to Monte Carlo methods. Exercises are to be performed directly in the boxes provided."
   ]
  },
  {
   "cell_type": "markdown",
   "metadata": {},
   "source": [
    "## Example: using Monte Carlo to calculate the value of Pi"
   ]
  },
  {
   "cell_type": "markdown",
   "metadata": {},
   "source": [
    "This is an example code that uses _Npoints_=100 random numbers to estimate the value of Pi using Monte Carlo methods. Note how increasing the value of _NPoints_ increases the accuracy of the estimation."
   ]
  },
  {
   "cell_type": "code",
   "execution_count": null,
   "metadata": {},
   "outputs": [],
   "source": [
    "import numpy as np\n",
    "import matplotlib.pyplot as plt\n",
    "\n",
    "Npoints = 1000\n",
    "\n",
    "# Generate Npoints random numbers in the range [0, 1]\n",
    "x = np.random.rand(Npoints)\n",
    "y = np.random.rand(Npoints)\n",
    "\n",
    "# Calculate the distance of each point to the origin\n",
    "distance_to_origin = np.sqrt(x**2 + y**2)\n",
    "\n",
    "# Get the indices of points inside the circle (distance <= 1)\n",
    "inside_indices = np.where(distance_to_origin <= 1)\n",
    "\n",
    "# Get the x and y coordinates of points inside the circle\n",
    "x_inside = x[inside_indices]\n",
    "y_inside = y[inside_indices]\n",
    "\n",
    "# Approximate pi\n",
    "pi_approx = 4 * len(x_inside) / len(x)\n",
    "\n",
    "# Plot the points and the unit circle\n",
    "plt.figure(figsize=(6, 6))\n",
    "plt.scatter(x, y, color='blue', label='Random points')\n",
    "plt.scatter(x_inside, y_inside, color='red', label='Points inside the circle')\n",
    "circle = plt.Circle((0, 0), 1, color='green', fill=False, linestyle='--', label='Unit circle')\n",
    "plt.gca().add_patch(circle)\n",
    "plt.xlim(-1.1, 1.1)\n",
    "plt.ylim(-1.1, 1.1)\n",
    "plt.gca().set_aspect('equal', adjustable='box')\n",
    "plt.xlabel('X-axis')\n",
    "plt.ylabel('Y-axis')\n",
    "plt.title(f'Estimation of pi: {pi_approx:.4f} (using {Npoints} points)')\n",
    "plt.legend()\n",
    "plt.show()\n"
   ]
  },
  {
   "cell_type": "markdown",
   "metadata": {},
   "source": [
    "## Generating random numbers"
   ]
  },
  {
   "attachments": {},
   "cell_type": "markdown",
   "metadata": {},
   "source": [
    "__1)__ Generate 400 random numbers following a uniform distribution between 0 and 1. Use function _np.random.rand()_."
   ]
  },
  {
   "cell_type": "code",
   "execution_count": null,
   "metadata": {},
   "outputs": [],
   "source": [
    "import numpy as np\n",
    "# Sol:\n",
    "numeros_aleatorios = np.random.rand(400)\n",
    "numeros_aleatorios"
   ]
  },
  {
   "cell_type": "markdown",
   "metadata": {},
   "source": [
    "__2)__ Create a histogram of the previous 400 numbers. Use function _plt.hist()_. Now re-create the histogram using 10 times more numbers. How do the fluctuations between bins change?"
   ]
  },
  {
   "cell_type": "code",
   "execution_count": null,
   "metadata": {},
   "outputs": [],
   "source": [
    "# Sol:\n",
    "import matplotlib.pyplot as plt\n",
    "\n",
    "N = 400\n",
    "\n",
    "# Create the numbers\n",
    "numeros_aleatorios = np.random.rand(N)\n",
    "\n",
    "\n",
    "# Create the histogram\n",
    "plt.hist(numeros_aleatorios, bins=20, color='blue', alpha=0.7)\n",
    "plt.title(f'{N} random numbers')\n",
    "plt.xlabel('Value')\n",
    "plt.ylabel('Frequency')\n",
    "plt.grid(True)\n",
    "plt.show()"
   ]
  },
  {
   "cell_type": "markdown",
   "metadata": {},
   "source": [
    "__3)__ If _X_ is a vector, the function _X.var()_ returns its variance. Calculate the variance of the distribution from the obtained set of 400 random numbers. Is it consistent with the expected variance of a uniform distribution?"
   ]
  },
  {
   "cell_type": "code",
   "execution_count": null,
   "metadata": {},
   "outputs": [],
   "source": [
    "# Write here the calculated variance of the 400 random numbers:\n",
    "#"
   ]
  },
  {
   "cell_type": "code",
   "execution_count": null,
   "metadata": {},
   "outputs": [],
   "source": [
    "# Write here the theoretical variance of a uniform distribution between 0 and 1.\n",
    "#"
   ]
  },
  {
   "cell_type": "markdown",
   "metadata": {},
   "source": [
    "## Sampling a uniform distribution"
   ]
  },
  {
   "cell_type": "markdown",
   "metadata": {},
   "source": [
    "__4)__ Using the 400 uniform deviates from the previous example, create a new set of 400 random numbers uniformly distributed between 4 and 7 and plot them in a histogram."
   ]
  },
  {
   "cell_type": "code",
   "execution_count": null,
   "metadata": {},
   "outputs": [],
   "source": [
    "# Write here your solution\n",
    "#"
   ]
  },
  {
   "cell_type": "markdown",
   "metadata": {},
   "source": [
    "__5)__ Calculate the variance of the distribution both theoretically and from the obtained set."
   ]
  },
  {
   "cell_type": "code",
   "execution_count": null,
   "metadata": {},
   "outputs": [],
   "source": [
    "# Variance of the new set of random numbers:\n",
    "#"
   ]
  },
  {
   "cell_type": "code",
   "execution_count": null,
   "metadata": {},
   "outputs": [],
   "source": [
    "# Theoretical variance\n",
    "#"
   ]
  },
  {
   "cell_type": "markdown",
   "metadata": {},
   "source": [
    "## Inverse transform sampling"
   ]
  },
  {
   "cell_type": "markdown",
   "metadata": {},
   "source": [
    "Co<sup>60</sup> is a radioactive isotope that used to be common in radiotherapy treatments before linear accelerators became widely accesible. Its half-life is t<sub>1/2</sub> = 5.23 years, so its decay constant takes the value λ = ln(2) / t<sub>1/2</sub> = 0.1325 years<sup>-1</sup>. Therefore, disintegration time of a Co<sup>60</sup> nucleus can be expressed as a random variable with the following distribution:"
   ]
  },
  {
   "cell_type": "markdown",
   "metadata": {},
   "source": [
    "\\begin{equation*}\n",
    "f(t) = \\left\\{\n",
    "    \\begin{array}{ll}\n",
    "        \\lambda e^{-\\lambda t} & \\mbox{if } t > 0 \\\\\n",
    "        0 & \\mbox{if } t \\leq 0\n",
    "    \\end{array}\n",
    "\\right.\n",
    "\\end{equation*}\n",
    "\n"
   ]
  },
  {
   "cell_type": "markdown",
   "metadata": {},
   "source": [
    "![Ejemplo de imagen](ej6.png)"
   ]
  },
  {
   "cell_type": "markdown",
   "metadata": {},
   "source": [
    "Its cumulative distribution function is $F(t) = \\int_{0}^{\\infty} f(s) \\, ds = 1 - e^{-\\lambda t}$."
   ]
  },
  {
   "cell_type": "markdown",
   "metadata": {},
   "source": [
    "![Ejemplo de imagen](ej6b.png)"
   ]
  },
  {
   "cell_type": "markdown",
   "metadata": {},
   "source": [
    "__6)__ Using the inverse transform sampling method and the set of 400 uniform deviates (values between 0 and 1) generated in exercise 1, generate 400 possible disintegration times of a Co<sup>60</sup> atom following the required $f(t)$ distribution."
   ]
  },
  {
   "cell_type": "markdown",
   "metadata": {},
   "source": [
    "Hint: the inverse of the cumulative distribution function is $F^{-1}(y) = -\\frac{\\ln{(1-y)}}{\\lambda}$."
   ]
  },
  {
   "cell_type": "code",
   "execution_count": null,
   "metadata": {},
   "outputs": [],
   "source": [
    "# Write here your solution\n",
    "# "
   ]
  },
  {
   "cell_type": "markdown",
   "metadata": {},
   "source": [
    "__7)__ Create a histogram of the generated decay values"
   ]
  },
  {
   "cell_type": "code",
   "execution_count": null,
   "metadata": {},
   "outputs": [],
   "source": [
    "# Create the histogram\n",
    "#"
   ]
  },
  {
   "cell_type": "markdown",
   "metadata": {},
   "source": [
    "## Boostraping to create a fit taking into account uncertainties in X and Y"
   ]
  },
  {
   "cell_type": "markdown",
   "metadata": {},
   "source": [
    "The following dataset of (s,t) value pairs has been used to estimate the value of gravity ($g$) in Madrid in a free fall experiment where $h = \\frac{1}{2}gt^2$. Using bootstrapping, estimate the uncertainty value for g, $\\Delta m$, from the uncertainty in the slope of the fit, $\\Delta m$. Both the value of the fit and its uncertainty must be estimated **taking into account the individual uncertainties from each datapoint**."
   ]
  },
  {
   "cell_type": "code",
   "execution_count": null,
   "metadata": {},
   "outputs": [],
   "source": [
    "import numpy as np\n",
    "import matplotlib.pyplot as plt\n",
    "\n",
    "# Values for h and t2\n",
    "plt.cla()\n",
    "t2 = np.array([0.37, 1.41, 4.51, 7.74, 12.5])\n",
    "delta_t2 = np.array([0.14, 0.54, 0.82, 0.51, 1.0])\n",
    "h = np.array([2.56, 7.06, 22.4, 38.03, 62.3])\n",
    "delta_h = np.array([1.52, 0.92, 1.7, 4.30, 1.7])\n",
    "\n",
    "# Plot data points with error bars\n",
    "plt.errorbar(t2, h, xerr=delta_t2, yerr=delta_h, fmt='bo', label='Data')\n",
    "plt.xlabel('T^2 [s]')\n",
    "plt.ylabel('h [m]')\n",
    "\n",
    "# Create fit line\n",
    "m, n = np.polyfit(t2, h, 1)\n",
    "fitLine = m * t2 + n\n",
    "plt.plot(t2, fitLine, 'r-', label='Fit Line')\n",
    "\n",
    "plt.grid(True)\n",
    "plt.legend()\n",
    "plt.show()"
   ]
  },
  {
   "cell_type": "markdown",
   "metadata": {},
   "source": [
    "The fit line, however, does not take into account the uncertainties of each point in X and Y. The _bootstraping method_ is based on the creation of new datasets by sampling each data point assuming that it follows a Gaussian distribution in 2D where each dimension follows N(x, dx) and N(y, dy). From each of the newly sampled dataset we will create an individual fit, and then take the mean of the resulting slope and intercept values (or, in this case, the mean of the resulting calculated values of _g_)."
   ]
  },
  {
   "cell_type": "code",
   "execution_count": null,
   "metadata": {},
   "outputs": [],
   "source": [
    "# Plot data points with error bars\n",
    "plt.errorbar(t2, h, xerr=delta_t2, yerr=delta_h, fmt='bo', label='Data')\n",
    "plt.xlabel('T^2 [s]')\n",
    "plt.ylabel('h [m]')\n",
    "\n",
    "noisy_x = np.random.normal(loc=t2, scale=delta_t2)\n",
    "noisy_y = np.random.normal(loc=h, scale=delta_h)\n",
    "plt.plot(noisy_x,noisy_y,'r.',label='Randomly sampled dataset')\n",
    "plt.show\n",
    "        \n",
    "# Calculate gravity from noisy data\n",
    "m, n = np.polyfit(noisy_x, noisy_y, 1)\n",
    "fitLine = m*noisy_x + n\n",
    "g = 2*m\n",
    "plt.plot(noisy_x, fitLine, 'r:', linewidth=0.5, label=f'Fit of randomly sampled dataset (g={g:.3f})')\n",
    "\n",
    "plt.grid(True)\n",
    "plt.legend()\n",
    "plt.show()"
   ]
  },
  {
   "cell_type": "markdown",
   "metadata": {},
   "source": [
    "__8)__ Create a script that performs bootstrapping for 50 iterations to the abovementioned dataset and calculate g with its associated uncertainty. Show in a histogram the frequency distribution for the calculated values of g (you can use the funcion _plt.hist()_)."
   ]
  },
  {
   "cell_type": "code",
   "execution_count": null,
   "metadata": {},
   "outputs": [],
   "source": [
    "# Number of bootstrapping iterations\n",
    "num_iterations = 50\n",
    "\n",
    "# 1. Create a function for bootstrapping that calculates 50 fits with resampled noisy data\n",
    "#"
   ]
  },
  {
   "cell_type": "code",
   "execution_count": null,
   "metadata": {},
   "outputs": [],
   "source": [
    "# 2. Show a histogram of the distribution of the obtained g values along with its mean and standard deviation\n",
    "#"
   ]
  }
 ],
 "metadata": {
  "anaconda-cloud": {},
  "kernelspec": {
   "display_name": "Python 3 (ipykernel)",
   "language": "python",
   "name": "python3"
  },
  "language_info": {
   "codemirror_mode": {
    "name": "ipython",
    "version": 3
   },
   "file_extension": ".py",
   "mimetype": "text/x-python",
   "name": "python",
   "nbconvert_exporter": "python",
   "pygments_lexer": "ipython3",
   "version": "3.12.2"
  },
  "nbTranslate": {
   "displayLangs": [
    "en",
    "es"
   ],
   "hotkey": "alt-t",
   "langInMainMenu": true,
   "sourceLang": "es",
   "targetLang": "en",
   "useGoogleTranslate": true
  },
  "toc": {
   "base_numbering": 1,
   "nav_menu": {
    "height": "68px",
    "width": "252px"
   },
   "number_sections": true,
   "sideBar": true,
   "skip_h1_title": false,
   "title_cell": "Table of Contents",
   "title_sidebar": "Contents",
   "toc_cell": false,
   "toc_position": {},
   "toc_section_display": "block",
   "toc_window_display": false
  }
 },
 "nbformat": 4,
 "nbformat_minor": 4
}
